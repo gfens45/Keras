{
 "cells": [
  {
   "cell_type": "markdown",
   "metadata": {},
   "source": [
    "<img src=\"http://imgur.com/1ZcRyrc.png\" style=\"float: left; margin: 20px; height: 55px\">\n",
    "\n",
    "# Timeseries and Datetime\n",
    "\n",
    "_Authors: Samuel Stack (DC)_\n",
    "\n",
    "---\n",
    "\n",
    "### Learning Objectives\n",
    "- Use the datetime library to represent dates as objects\n",
    "- Calculate time differences with timedelta\n",
    "- Use datetime objects in pandas on the UFO dataset"
   ]
  },
  {
   "cell_type": "markdown",
   "metadata": {},
   "source": [
    "### Lesson Guide\n",
    "- [The `datetime` library](#the-datetime-library)\n",
    "- [`datetime` object](#datetime-object)\n",
    "- [`timedelta`](#timedelta)\n",
    "- [Load the UFO reports data](#load-the-ufo-reports-data)\n",
    "- [Pandas' `pd.datetime`](#pandas-pddatetime)\n",
    "\t- [The `.dt` attribute](#the-dt-attribute)\n",
    "- [Time stamps](#time-stamps)\n",
    "- [Additional resources](#additional-resources)\n"
   ]
  },
  {
   "cell_type": "markdown",
   "metadata": {},
   "source": [
    "# What is a *time series*?\n",
    "\n",
    "**Definition:** A *series* of data points listed at successive points in time.\n",
    "\n",
    "**Think of examples.**\n"
   ]
  },
  {
   "cell_type": "markdown",
   "metadata": {},
   "source": [
    "![](images/dataframe.png)"
   ]
  },
  {
   "cell_type": "markdown",
   "metadata": {},
   "source": [
    "**Time series are inevitably stored in different formats.**\n",
    "\n",
    "---\n",
    "\n",
    "![](images/weather1.png)\n",
    "\n",
    "---\n",
    "\n",
    "![](images/weather2.png)\n"
   ]
  },
  {
   "cell_type": "markdown",
   "metadata": {},
   "source": [
    "# A Surprisingly (?) Frustrating Aspect of Working with Time\n",
    "\n",
    "*Working with* **time**!!\n",
    "\n",
    "- Measurements:\n",
    "  - Year, month day\n",
    "  - Day of week\n",
    "  - Hour, minute, second, microsecond\n",
    "- Policies:\n",
    "  - Time zone, daylight savings\n",
    "\n"
   ]
  },
  {
   "cell_type": "markdown",
   "metadata": {},
   "source": [
    "# Pythonic Dates\n",
    "\n",
    "- Standard library\n",
    "  - `date`\n",
    "  - *`datetime`*\n",
    "  - `time`\n",
    "  - *`timedelta`*\n",
    "\n",
    "[https://docs.python.org/3.6/library/datetime.html](https://docs.python.org/3.6/library/datetime.html)\n"
   ]
  },
  {
   "cell_type": "markdown",
   "metadata": {},
   "source": [
    "<a id=\"the-datetime-library\"></a>\n",
    "## The `datetime` library\n",
    "---\n",
    "\n",
    "The python library `datetime` is great for dealing with time-related data. Pandas being Pandas has incorporated this `datetime` library into its own datetime series and objects.\n",
    "\n",
    "We're going to review these data types and learn a little more about them.\n",
    "- Datetime Object\n",
    "- Datetime Series\n",
    "- Time Stamp\n",
    "- Time Delta\n"
   ]
  },
  {
   "cell_type": "markdown",
   "metadata": {},
   "source": [
    "<a id=\"datetime-object\"></a>\n",
    "## `datetime` object\n",
    "---\n",
    "\n",
    "Below we can load in the datetime library. Using this we can create a datetime object by entering in the different components of the date as arguments."
   ]
  },
  {
   "cell_type": "code",
   "execution_count": 33,
   "metadata": {},
   "outputs": [
    {
     "data": {
      "text/plain": [
       "datetime.datetime(2012, 12, 21, 12, 21, 12, 840265)"
      ]
     },
     "execution_count": 33,
     "metadata": {},
     "output_type": "execute_result"
    }
   ],
   "source": [
    "# The Date time library is something you should already have because of Anaconda.\n",
    "from datetime import datetime\n",
    "# \n",
    "lesson_date = datetime(2012,12,21,12,21,12,840265)\n",
    "lesson_date"
   ]
  },
  {
   "cell_type": "markdown",
   "metadata": {},
   "source": [
    "The components of the date are accessible via attributes of the object."
   ]
  },
  {
   "cell_type": "code",
   "execution_count": 7,
   "metadata": {},
   "outputs": [
    {
     "name": "stdout",
     "output_type": "stream",
     "text": [
      "Microsecond 840265\n",
      "Day 21\n",
      "4\n",
      "F\n"
     ]
    }
   ],
   "source": [
    "# A:\n",
    "print('Microsecond', lesson_date.microsecond)\n",
    "print('Day', lesson_date.day)\n",
    "print(lesson_date.weekday())\n",
    "\n",
    "dow =['M','T','W','R','F','Sa','Su']\n",
    "print(dow[lesson_date.weekday()])"
   ]
  },
  {
   "cell_type": "markdown",
   "metadata": {},
   "source": [
    "<a id=\"timedelta\"></a>\n",
    "## `timedelta`\n",
    "---\n",
    "\n",
    "Say we want to add time to a date or subtract time.  Maybe we are using time as an index and we want to get everything that happened a week before a specific observation.\n",
    "\n",
    "We can use a timedelta object to shift (do arithmatic, more or less) a datetime object. Here's an example:\n"
   ]
  },
  {
   "cell_type": "code",
   "execution_count": 10,
   "metadata": {},
   "outputs": [
    {
     "name": "stdout",
     "output_type": "stream",
     "text": [
      "offset days 1\n",
      "offset microsecond 0\n"
     ]
    }
   ],
   "source": [
    "# Import timedelta from datetime library\n",
    "from datetime import timedelta\n",
    "# A:\n",
    "offset = timedelta(days=1, seconds=20)\n",
    "print('offset days',offset.days)\n",
    "print('offset microsecond', offset.microseconds)"
   ]
  },
  {
   "cell_type": "markdown",
   "metadata": {},
   "source": [
    "The `.now()` function of datetime will give you the datetime object of this very moment."
   ]
  },
  {
   "cell_type": "code",
   "execution_count": 13,
   "metadata": {},
   "outputs": [
    {
     "name": "stdout",
     "output_type": "stream",
     "text": [
      "2017-11-16 10:28:29.708398\n"
     ]
    }
   ],
   "source": [
    "# A:\n",
    "now = datetime.now()\n",
    "print(now)"
   ]
  },
  {
   "cell_type": "markdown",
   "metadata": {},
   "source": [
    "The current time is particularly useful when using timedeltas."
   ]
  },
  {
   "cell_type": "code",
   "execution_count": 14,
   "metadata": {},
   "outputs": [
    {
     "name": "stdout",
     "output_type": "stream",
     "text": [
      "Future 2017-11-17 10:28:49.708398\n",
      "Past 2017-11-15 10:28:09.708398\n"
     ]
    }
   ],
   "source": [
    "# A:\n",
    "print('Future', now+offset)\n",
    "print('Past', now-offset)"
   ]
  },
  {
   "cell_type": "markdown",
   "metadata": {},
   "source": [
    "> _Note: The largest value a Time Delta can hold is 'Days'.  I.e. you can't say your want you an offset to be 2 years, 44 days and 12 hours.  You would have to manually convert the time of those years to be represented in days._\n",
    "\n",
    "You can read more about that here in the timedeltas category.\n",
    "https://docs.python.org/2/library/datetime.html"
   ]
  },
  {
   "cell_type": "markdown",
   "metadata": {},
   "source": [
    "<a id=\"load-the-ufo-reports-data\"></a>\n",
    "## Load the UFO reports data\n",
    "---\n",
    "\n",
    "We can practice using datetime functions and objects with the UFO reports data."
   ]
  },
  {
   "cell_type": "code",
   "execution_count": 15,
   "metadata": {
    "collapsed": true
   },
   "outputs": [],
   "source": [
    "# Get a dataset from the internets\n",
    "import pandas as pd\n",
    "ufo = pd.read_csv('http://bit.ly/uforeports')"
   ]
  },
  {
   "cell_type": "code",
   "execution_count": 16,
   "metadata": {},
   "outputs": [
    {
     "data": {
      "text/html": [
       "<div>\n",
       "<style>\n",
       "    .dataframe thead tr:only-child th {\n",
       "        text-align: right;\n",
       "    }\n",
       "\n",
       "    .dataframe thead th {\n",
       "        text-align: left;\n",
       "    }\n",
       "\n",
       "    .dataframe tbody tr th {\n",
       "        vertical-align: top;\n",
       "    }\n",
       "</style>\n",
       "<table border=\"1\" class=\"dataframe\">\n",
       "  <thead>\n",
       "    <tr style=\"text-align: right;\">\n",
       "      <th></th>\n",
       "      <th>City</th>\n",
       "      <th>Colors Reported</th>\n",
       "      <th>Shape Reported</th>\n",
       "      <th>State</th>\n",
       "      <th>Time</th>\n",
       "    </tr>\n",
       "  </thead>\n",
       "  <tbody>\n",
       "    <tr>\n",
       "      <th>0</th>\n",
       "      <td>Ithaca</td>\n",
       "      <td>NaN</td>\n",
       "      <td>TRIANGLE</td>\n",
       "      <td>NY</td>\n",
       "      <td>6/1/1930 22:00</td>\n",
       "    </tr>\n",
       "    <tr>\n",
       "      <th>1</th>\n",
       "      <td>Willingboro</td>\n",
       "      <td>NaN</td>\n",
       "      <td>OTHER</td>\n",
       "      <td>NJ</td>\n",
       "      <td>6/30/1930 20:00</td>\n",
       "    </tr>\n",
       "    <tr>\n",
       "      <th>2</th>\n",
       "      <td>Holyoke</td>\n",
       "      <td>NaN</td>\n",
       "      <td>OVAL</td>\n",
       "      <td>CO</td>\n",
       "      <td>2/15/1931 14:00</td>\n",
       "    </tr>\n",
       "    <tr>\n",
       "      <th>3</th>\n",
       "      <td>Abilene</td>\n",
       "      <td>NaN</td>\n",
       "      <td>DISK</td>\n",
       "      <td>KS</td>\n",
       "      <td>6/1/1931 13:00</td>\n",
       "    </tr>\n",
       "    <tr>\n",
       "      <th>4</th>\n",
       "      <td>New York Worlds Fair</td>\n",
       "      <td>NaN</td>\n",
       "      <td>LIGHT</td>\n",
       "      <td>NY</td>\n",
       "      <td>4/18/1933 19:00</td>\n",
       "    </tr>\n",
       "  </tbody>\n",
       "</table>\n",
       "</div>"
      ],
      "text/plain": [
       "                   City Colors Reported Shape Reported State             Time\n",
       "0                Ithaca             NaN       TRIANGLE    NY   6/1/1930 22:00\n",
       "1           Willingboro             NaN          OTHER    NJ  6/30/1930 20:00\n",
       "2               Holyoke             NaN           OVAL    CO  2/15/1931 14:00\n",
       "3               Abilene             NaN           DISK    KS   6/1/1931 13:00\n",
       "4  New York Worlds Fair             NaN          LIGHT    NY  4/18/1933 19:00"
      ]
     },
     "execution_count": 16,
     "metadata": {},
     "output_type": "execute_result"
    }
   ],
   "source": [
    "# A:\n",
    "ufo.head()"
   ]
  },
  {
   "cell_type": "code",
   "execution_count": 17,
   "metadata": {},
   "outputs": [
    {
     "data": {
      "text/plain": [
       "City               object\n",
       "Colors Reported    object\n",
       "Shape Reported     object\n",
       "State              object\n",
       "Time               object\n",
       "dtype: object"
      ]
     },
     "execution_count": 17,
     "metadata": {},
     "output_type": "execute_result"
    }
   ],
   "source": [
    "ufo.dtypes"
   ]
  },
  {
   "cell_type": "markdown",
   "metadata": {},
   "source": [
    "The \"Time\" column starts off as just an object."
   ]
  },
  {
   "cell_type": "markdown",
   "metadata": {},
   "source": [
    "<a id=\"pandas-pddatetime\"></a>\n",
    "## Pandas' `pd.datetime`\n",
    "---\n",
    "\n",
    "When using pandas we can convert columns of data from string objects into date objects with the `pd.to_datetime` function.\n",
    "\n",
    "> **Note**: dates can be tricky to parse as they come in many formats. The `to_datetime` function comes with a keyword argument `infer_datetime_format` that can be particularly useful to parse dates."
   ]
  },
  {
   "cell_type": "code",
   "execution_count": 19,
   "metadata": {},
   "outputs": [],
   "source": [
    "# A:\n",
    "ufo['Time']=pd.to_datetime(ufo.Time)"
   ]
  },
  {
   "cell_type": "code",
   "execution_count": 20,
   "metadata": {},
   "outputs": [
    {
     "data": {
      "text/html": [
       "<div>\n",
       "<style>\n",
       "    .dataframe thead tr:only-child th {\n",
       "        text-align: right;\n",
       "    }\n",
       "\n",
       "    .dataframe thead th {\n",
       "        text-align: left;\n",
       "    }\n",
       "\n",
       "    .dataframe tbody tr th {\n",
       "        vertical-align: top;\n",
       "    }\n",
       "</style>\n",
       "<table border=\"1\" class=\"dataframe\">\n",
       "  <thead>\n",
       "    <tr style=\"text-align: right;\">\n",
       "      <th></th>\n",
       "      <th>City</th>\n",
       "      <th>Colors Reported</th>\n",
       "      <th>Shape Reported</th>\n",
       "      <th>State</th>\n",
       "      <th>Time</th>\n",
       "    </tr>\n",
       "  </thead>\n",
       "  <tbody>\n",
       "    <tr>\n",
       "      <th>0</th>\n",
       "      <td>Ithaca</td>\n",
       "      <td>NaN</td>\n",
       "      <td>TRIANGLE</td>\n",
       "      <td>NY</td>\n",
       "      <td>1930-06-01 22:00:00</td>\n",
       "    </tr>\n",
       "    <tr>\n",
       "      <th>1</th>\n",
       "      <td>Willingboro</td>\n",
       "      <td>NaN</td>\n",
       "      <td>OTHER</td>\n",
       "      <td>NJ</td>\n",
       "      <td>1930-06-30 20:00:00</td>\n",
       "    </tr>\n",
       "    <tr>\n",
       "      <th>2</th>\n",
       "      <td>Holyoke</td>\n",
       "      <td>NaN</td>\n",
       "      <td>OVAL</td>\n",
       "      <td>CO</td>\n",
       "      <td>1931-02-15 14:00:00</td>\n",
       "    </tr>\n",
       "    <tr>\n",
       "      <th>3</th>\n",
       "      <td>Abilene</td>\n",
       "      <td>NaN</td>\n",
       "      <td>DISK</td>\n",
       "      <td>KS</td>\n",
       "      <td>1931-06-01 13:00:00</td>\n",
       "    </tr>\n",
       "    <tr>\n",
       "      <th>4</th>\n",
       "      <td>New York Worlds Fair</td>\n",
       "      <td>NaN</td>\n",
       "      <td>LIGHT</td>\n",
       "      <td>NY</td>\n",
       "      <td>1933-04-18 19:00:00</td>\n",
       "    </tr>\n",
       "  </tbody>\n",
       "</table>\n",
       "</div>"
      ],
      "text/plain": [
       "                   City Colors Reported Shape Reported State  \\\n",
       "0                Ithaca             NaN       TRIANGLE    NY   \n",
       "1           Willingboro             NaN          OTHER    NJ   \n",
       "2               Holyoke             NaN           OVAL    CO   \n",
       "3               Abilene             NaN           DISK    KS   \n",
       "4  New York Worlds Fair             NaN          LIGHT    NY   \n",
       "\n",
       "                 Time  \n",
       "0 1930-06-01 22:00:00  \n",
       "1 1930-06-30 20:00:00  \n",
       "2 1931-02-15 14:00:00  \n",
       "3 1931-06-01 13:00:00  \n",
       "4 1933-04-18 19:00:00  "
      ]
     },
     "execution_count": 20,
     "metadata": {},
     "output_type": "execute_result"
    }
   ],
   "source": [
    "ufo.head()"
   ]
  },
  {
   "cell_type": "code",
   "execution_count": 21,
   "metadata": {},
   "outputs": [
    {
     "data": {
      "text/plain": [
       "City                       object\n",
       "Colors Reported            object\n",
       "Shape Reported             object\n",
       "State                      object\n",
       "Time               datetime64[ns]\n",
       "dtype: object"
      ]
     },
     "execution_count": 21,
     "metadata": {},
     "output_type": "execute_result"
    }
   ],
   "source": [
    "ufo.dtypes #  datetime64 -> numpy"
   ]
  },
  {
   "cell_type": "markdown",
   "metadata": {},
   "source": [
    "<a id=\"the-dt-attribute\"></a>\n",
    "### The `.dt` attribute\n",
    "\n",
    "Pandas datetime columns have a `.dt` attribute that allows you to access attributes specific to the dates. For example:\n",
    "```python\n",
    "ufo.Time.dt.day\n",
    "ufo.Time.dt.month\n",
    "ufo.Time.dt.year\n",
    "ufo.Time.dt.weekday_name\n",
    "```\n",
    "\n",
    "And many more."
   ]
  },
  {
   "cell_type": "code",
   "execution_count": 22,
   "metadata": {},
   "outputs": [
    {
     "data": {
      "text/plain": [
       "0           Sunday\n",
       "1           Monday\n",
       "2           Sunday\n",
       "3           Monday\n",
       "4          Tuesday\n",
       "5         Saturday\n",
       "6         Saturday\n",
       "7        Wednesday\n",
       "8         Thursday\n",
       "9          Tuesday\n",
       "10          Sunday\n",
       "11        Thursday\n",
       "12          Friday\n",
       "13          Friday\n",
       "14          Sunday\n",
       "15       Wednesday\n",
       "16       Wednesday\n",
       "17          Monday\n",
       "18       Wednesday\n",
       "19          Friday\n",
       "20         Tuesday\n",
       "21          Sunday\n",
       "22          Sunday\n",
       "23          Friday\n",
       "24        Saturday\n",
       "25        Saturday\n",
       "26        Saturday\n",
       "27          Sunday\n",
       "28        Thursday\n",
       "29          Friday\n",
       "           ...    \n",
       "18211     Thursday\n",
       "18212     Thursday\n",
       "18213     Thursday\n",
       "18214       Friday\n",
       "18215       Friday\n",
       "18216       Friday\n",
       "18217       Friday\n",
       "18218       Friday\n",
       "18219       Friday\n",
       "18220       Friday\n",
       "18221       Friday\n",
       "18222       Friday\n",
       "18223       Friday\n",
       "18224       Friday\n",
       "18225     Saturday\n",
       "18226     Saturday\n",
       "18227     Saturday\n",
       "18228       Sunday\n",
       "18229       Sunday\n",
       "18230       Sunday\n",
       "18231       Sunday\n",
       "18232       Sunday\n",
       "18233       Sunday\n",
       "18234       Sunday\n",
       "18235       Sunday\n",
       "18236       Sunday\n",
       "18237       Sunday\n",
       "18238       Sunday\n",
       "18239       Sunday\n",
       "18240       Sunday\n",
       "Name: Time, Length: 18241, dtype: object"
      ]
     },
     "execution_count": 22,
     "metadata": {},
     "output_type": "execute_result"
    }
   ],
   "source": [
    "# A:\n",
    "ufo.Time.dt.weekday_name"
   ]
  },
  {
   "cell_type": "code",
   "execution_count": 23,
   "metadata": {},
   "outputs": [
    {
     "data": {
      "text/plain": [
       "0        152\n",
       "1        181\n",
       "2         46\n",
       "3        152\n",
       "4        108\n",
       "5        258\n",
       "6        166\n",
       "7        197\n",
       "8        289\n",
       "9        166\n",
       "10       227\n",
       "11       152\n",
       "12       181\n",
       "13       188\n",
       "14       152\n",
       "15       183\n",
       "16        56\n",
       "17       152\n",
       "18       196\n",
       "19       120\n",
       "20       152\n",
       "21       227\n",
       "22       227\n",
       "23       288\n",
       "24         1\n",
       "25         1\n",
       "26         1\n",
       "27        93\n",
       "28       153\n",
       "29       182\n",
       "        ... \n",
       "18211    363\n",
       "18212    363\n",
       "18213    363\n",
       "18214    364\n",
       "18215    364\n",
       "18216    364\n",
       "18217    364\n",
       "18218    364\n",
       "18219    364\n",
       "18220    364\n",
       "18221    364\n",
       "18222    364\n",
       "18223    364\n",
       "18224    364\n",
       "18225    365\n",
       "18226    365\n",
       "18227    365\n",
       "18228    366\n",
       "18229    366\n",
       "18230    366\n",
       "18231    366\n",
       "18232    366\n",
       "18233    366\n",
       "18234    366\n",
       "18235    366\n",
       "18236    366\n",
       "18237    366\n",
       "18238    366\n",
       "18239    366\n",
       "18240    366\n",
       "Name: Time, Length: 18241, dtype: int64"
      ]
     },
     "execution_count": 23,
     "metadata": {},
     "output_type": "execute_result"
    }
   ],
   "source": [
    "ufo.Time.dt.dayofyear"
   ]
  },
  {
   "cell_type": "markdown",
   "metadata": {},
   "source": [
    "<a id=\"time-stamps\"></a>\n",
    "## Time stamps\n",
    "---\n",
    "\n",
    "Timestamps are useful objects for comparisons. You can create a timestamp object with the `pd.to_datetime` function and a string specifying the date. These timestamps are useful when you need to do logical filtering with dates."
   ]
  },
  {
   "cell_type": "code",
   "execution_count": 25,
   "metadata": {},
   "outputs": [
    {
     "data": {
      "text/plain": [
       "pandas._libs.tslib.Timestamp"
      ]
     },
     "execution_count": 25,
     "metadata": {},
     "output_type": "execute_result"
    }
   ],
   "source": [
    "# A:\n",
    "type(ufo.Time[0])"
   ]
  },
  {
   "cell_type": "code",
   "execution_count": 39,
   "metadata": {},
   "outputs": [
    {
     "name": "stdout",
     "output_type": "stream",
     "text": [
      "1\n",
      "1999-01-01 00:00:00\n"
     ]
    }
   ],
   "source": [
    "# Use that Time Stamp for a comparison.\n",
    "ts = pd.to_datetime('1/1/1999')\n",
    "print(ts.month)\n",
    "dt = datetime(1999,1,1)\n",
    "print(dt)"
   ]
  },
  {
   "cell_type": "code",
   "execution_count": 32,
   "metadata": {},
   "outputs": [
    {
     "data": {
      "text/html": [
       "<div>\n",
       "<style>\n",
       "    .dataframe thead tr:only-child th {\n",
       "        text-align: right;\n",
       "    }\n",
       "\n",
       "    .dataframe thead th {\n",
       "        text-align: left;\n",
       "    }\n",
       "\n",
       "    .dataframe tbody tr th {\n",
       "        vertical-align: top;\n",
       "    }\n",
       "</style>\n",
       "<table border=\"1\" class=\"dataframe\">\n",
       "  <thead>\n",
       "    <tr style=\"text-align: right;\">\n",
       "      <th></th>\n",
       "      <th>City</th>\n",
       "      <th>Colors Reported</th>\n",
       "      <th>Shape Reported</th>\n",
       "      <th>State</th>\n",
       "      <th>Time</th>\n",
       "    </tr>\n",
       "  </thead>\n",
       "  <tbody>\n",
       "    <tr>\n",
       "      <th>12832</th>\n",
       "      <td>Loma Rica</td>\n",
       "      <td>NaN</td>\n",
       "      <td>LIGHT</td>\n",
       "      <td>CA</td>\n",
       "      <td>1999-01-01 02:30:00</td>\n",
       "    </tr>\n",
       "    <tr>\n",
       "      <th>12833</th>\n",
       "      <td>Bauxite</td>\n",
       "      <td>NaN</td>\n",
       "      <td>NaN</td>\n",
       "      <td>AR</td>\n",
       "      <td>1999-01-01 03:00:00</td>\n",
       "    </tr>\n",
       "    <tr>\n",
       "      <th>12834</th>\n",
       "      <td>Florence</td>\n",
       "      <td>NaN</td>\n",
       "      <td>CYLINDER</td>\n",
       "      <td>SC</td>\n",
       "      <td>1999-01-01 14:00:00</td>\n",
       "    </tr>\n",
       "    <tr>\n",
       "      <th>12835</th>\n",
       "      <td>Lake Henshaw</td>\n",
       "      <td>NaN</td>\n",
       "      <td>CIGAR</td>\n",
       "      <td>CA</td>\n",
       "      <td>1999-01-01 15:00:00</td>\n",
       "    </tr>\n",
       "    <tr>\n",
       "      <th>12836</th>\n",
       "      <td>Wilmington Island</td>\n",
       "      <td>NaN</td>\n",
       "      <td>LIGHT</td>\n",
       "      <td>GA</td>\n",
       "      <td>1999-01-01 17:15:00</td>\n",
       "    </tr>\n",
       "  </tbody>\n",
       "</table>\n",
       "</div>"
      ],
      "text/plain": [
       "                    City Colors Reported Shape Reported State  \\\n",
       "12832          Loma Rica             NaN          LIGHT    CA   \n",
       "12833            Bauxite             NaN            NaN    AR   \n",
       "12834           Florence             NaN       CYLINDER    SC   \n",
       "12835       Lake Henshaw             NaN          CIGAR    CA   \n",
       "12836  Wilmington Island             NaN          LIGHT    GA   \n",
       "\n",
       "                     Time  \n",
       "12832 1999-01-01 02:30:00  \n",
       "12833 1999-01-01 03:00:00  \n",
       "12834 1999-01-01 14:00:00  \n",
       "12835 1999-01-01 15:00:00  \n",
       "12836 1999-01-01 17:15:00  "
      ]
     },
     "execution_count": 32,
     "metadata": {},
     "output_type": "execute_result"
    }
   ],
   "source": [
    "ufo.loc[ufo.Time >= ts, :].head()"
   ]
  },
  {
   "cell_type": "markdown",
   "metadata": {},
   "source": [
    "<a id=\"additional-resources\"></a>\n",
    "## Additional resources\n",
    "---\n",
    "- search for .dt. on http://pandas.pydata.org/pandas-docs/stable/api.html for more information about pandas Datetime."
   ]
  },
  {
   "cell_type": "code",
   "execution_count": 47,
   "metadata": {},
   "outputs": [
    {
     "name": "stdout",
     "output_type": "stream",
     "text": [
      "one year from now:2018-11-16 11:04:56.330142\n"
     ]
    }
   ],
   "source": [
    "print('one year from now:' + str(datetime.now() + timedelta   (days =365)))"
   ]
  }
 ],
 "metadata": {
  "anaconda-cloud": {},
  "kernelspec": {
   "display_name": "Python 3",
   "language": "python",
   "name": "python3"
  },
  "language_info": {
   "codemirror_mode": {
    "name": "ipython",
    "version": 3
   },
   "file_extension": ".py",
   "mimetype": "text/x-python",
   "name": "python",
   "nbconvert_exporter": "python",
   "pygments_lexer": "ipython3",
   "version": "3.6.1"
  }
 },
 "nbformat": 4,
 "nbformat_minor": 1
}
