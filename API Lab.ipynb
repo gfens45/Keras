{
 "cells": [
  {
   "cell_type": "code",
   "execution_count": 1,
   "metadata": {
    "collapsed": true
   },
   "outputs": [],
   "source": [
    "# Load the libararies\n",
    "\n",
    "import requests\n",
    "import json\n",
    "import pandas as pd"
   ]
  },
  {
   "cell_type": "markdown",
   "metadata": {},
   "source": [
    "## Step 1: Get all the foods\n",
    "\n",
    "Using the API in the [README](../README.md), get a list of all the foods"
   ]
  },
  {
   "cell_type": "code",
   "execution_count": 12,
   "metadata": {
    "collapsed": true
   },
   "outputs": [],
   "source": [
    "rest_url = 'https://fast-retreat-88305.herokuapp.com/restaurants/1'"
   ]
  },
  {
   "cell_type": "code",
   "execution_count": 13,
   "metadata": {
    "collapsed": true
   },
   "outputs": [],
   "source": [
    "rest = requests.get(rest_url)"
   ]
  },
  {
   "cell_type": "code",
   "execution_count": 14,
   "metadata": {},
   "outputs": [
    {
     "data": {
      "text/plain": [
       "200"
      ]
     },
     "execution_count": 14,
     "metadata": {},
     "output_type": "execute_result"
    }
   ],
   "source": [
    "rest.status_code\n"
   ]
  },
  {
   "cell_type": "code",
   "execution_count": 15,
   "metadata": {},
   "outputs": [
    {
     "data": {
      "text/plain": [
       "{'created_at': '2017-04-17T19:43:26.708Z',\n",
       " 'id': 1,\n",
       " 'name': 'A&W Restaurants',\n",
       " 'updated_at': '2017-04-17T19:43:26.708Z',\n",
       " 'url': 'https://fast-retreat-88305.herokuapp.com/restaurants/1'}"
      ]
     },
     "execution_count": 15,
     "metadata": {},
     "output_type": "execute_result"
    }
   ],
   "source": [
    "rest_dict=json.loads(rest.content)\n",
    "rest_dict"
   ]
  },
  {
   "cell_type": "code",
   "execution_count": 16,
   "metadata": {
    "collapsed": true
   },
   "outputs": [],
   "source": [
    "cat_url = 'https://fast-retreat-88305.herokuapp.com/categories/1'"
   ]
  },
  {
   "cell_type": "code",
   "execution_count": 17,
   "metadata": {
    "collapsed": true
   },
   "outputs": [],
   "source": [
    "cat =requests.get(cat_url)"
   ]
  },
  {
   "cell_type": "code",
   "execution_count": 18,
   "metadata": {},
   "outputs": [
    {
     "data": {
      "text/plain": [
       "200"
      ]
     },
     "execution_count": 18,
     "metadata": {},
     "output_type": "execute_result"
    }
   ],
   "source": [
    "cat.status_code"
   ]
  },
  {
   "cell_type": "code",
   "execution_count": 19,
   "metadata": {
    "collapsed": true
   },
   "outputs": [],
   "source": [
    "cat_dict = json.loads(cat.content)"
   ]
  },
  {
   "cell_type": "code",
   "execution_count": 20,
   "metadata": {},
   "outputs": [
    {
     "data": {
      "text/plain": [
       "{'created_at': '2017-04-17T19:43:29.423Z',\n",
       " 'id': 1,\n",
       " 'name': 'Drinks',\n",
       " 'updated_at': '2017-04-17T20:05:35.796Z',\n",
       " 'url': 'https://fast-retreat-88305.herokuapp.com/categories/1'}"
      ]
     },
     "execution_count": 20,
     "metadata": {},
     "output_type": "execute_result"
    }
   ],
   "source": [
    "cat_dict"
   ]
  },
  {
   "cell_type": "code",
   "execution_count": 23,
   "metadata": {},
   "outputs": [
    {
     "data": {
      "text/plain": [
       "{'calories': 370,\n",
       " 'carbs': 91,\n",
       " 'category_ids': [1],\n",
       " 'created_at': '2017-04-17T19:43:29.627Z',\n",
       " 'fat': 0,\n",
       " 'id': 26,\n",
       " 'name': 'Blue Raspberry Slushee',\n",
       " 'restaurant_id': 1,\n",
       " 'updated_at': '2017-04-17T19:43:29.627Z',\n",
       " 'url': 'https://fast-retreat-88305.herokuapp.com/foods/26'}"
      ]
     },
     "execution_count": 23,
     "metadata": {},
     "output_type": "execute_result"
    }
   ],
   "source": [
    "# Get all the foods\n",
    "res = requests.get('https://fast-retreat-88305.herokuapp.com/foods')\n",
    "\n",
    "# Convert the result, which is a string into a python list\n",
    "foods = json.loads(res.content)\n",
    "foods[0]\n"
   ]
  },
  {
   "cell_type": "code",
   "execution_count": null,
   "metadata": {
    "collapsed": true
   },
   "outputs": [],
   "source": []
  },
  {
   "cell_type": "markdown",
   "metadata": {},
   "source": [
    "## Step 2: Get restaurant info for each food\n",
    "\n",
    "1. For each food dictionary in your foods list, use the `restaurant_id` to get the restaurant information from the API.\n",
    "2. Add the name from said restaurant to each food dictionary\n",
    "3. **NOTE:** Cache each restaurant so that you only hit the API once per restaurant. In other words, you should only hit https://fast-retreat-88305.herokuapp.com/restaurants/1 once, even though multiple food items are associated with this particular restaurant.\n",
    "\n",
    "### Before:\n",
    "```python\n",
    "foods = [\n",
    "    {'calories': 0,\n",
    "     'carbs': 0,\n",
    "     'category_id': 1,\n",
    "     'created_at': '2017-04-17T19:43:29.444Z',\n",
    "     'fat': 0,\n",
    "     'id': 1,\n",
    "     'name': 'A&W® Diet Root Beer',\n",
    "     'restaurant_id': 1,\n",
    "     'updated_at': '2017-04-17T19:43:29.444Z',\n",
    "     'url': 'https://fast-retreat-88305.herokuapp.com/foods/1'},\n",
    "     ...\n",
    "]\n",
    "```\n",
    "\n",
    "### After:\n",
    "\n",
    "Note the addition of **`'name': 'A&W® Diet Root Beer'`** to the dictionary.\n",
    "\n",
    "```python\n",
    "foods = [\n",
    "    {'calories': 0,\n",
    "     'carbs': 0,\n",
    "     'category_id': 1,\n",
    "     'created_at': '2017-04-17T19:43:29.444Z',\n",
    "     'fat': 0,\n",
    "     'id': 1,\n",
    "     'name': 'A&W® Diet Root Beer',\n",
    "     'restaurant': 'A&W Restaurants',\n",
    "     'restaurant_id': 1,\n",
    "     'updated_at': '2017-04-17T19:43:29.444Z',\n",
    "     'url': 'https://fast-retreat-88305.herokuapp.com/foods/1'},\n",
    "     ...\n",
    "]\n",
    "```"
   ]
  },
  {
   "cell_type": "code",
   "execution_count": 24,
   "metadata": {},
   "outputs": [
    {
     "data": {
      "text/plain": [
       "{'calories': 370,\n",
       " 'carbs': 91,\n",
       " 'category_ids': [1],\n",
       " 'created_at': '2017-04-17T19:43:29.627Z',\n",
       " 'fat': 0,\n",
       " 'id': 26,\n",
       " 'name': 'Blue Raspberry Slushee',\n",
       " 'restaurant_id': 1,\n",
       " 'updated_at': '2017-04-17T19:43:29.627Z',\n",
       " 'url': 'https://fast-retreat-88305.herokuapp.com/foods/26'}"
      ]
     },
     "execution_count": 24,
     "metadata": {},
     "output_type": "execute_result"
    }
   ],
   "source": [
    "restaurants = {}\n",
    "for food in foods:\n",
    "    restaurant_id = food['restaurant_id']\n",
    "    if restaurant_id in restaurants:\n",
    "        food['restaurant'] = restaurants[restaurant_id]\n",
    "    else:\n",
    "        restaurant_res = requests.get('https://fast-retreat-88305.herokuapp.com/restaurants/{}'.format(restaurant_id))\n",
    "        restaurant = json.loads(restaurant_res.content)\n",
    "food['restaurant'] = restaurant['name']\n",
    "restaurants[restaurant_id] = restaurant['name']\n",
    "foods[0]"
   ]
  },
  {
   "cell_type": "code",
   "execution_count": null,
   "metadata": {
    "collapsed": true
   },
   "outputs": [],
   "source": []
  },
  {
   "cell_type": "markdown",
   "metadata": {},
   "source": [
    "## Step 2: Get category info for each food\n",
    "\n",
    "1. For each food dictionary in your foods list, use the `category_id` to get the category information from the API.\n",
    "2. Add the name from said category to each food dictionary\n",
    "3. **NOTE:** Cache each category so that you only hit the API once per category. In other words, you should only hit https://fast-retreat-88305.herokuapp.com/categories/1 once, even though multiple food items are associated with this particular category.\n",
    "\n",
    "### Before:\n",
    "```python\n",
    "foods = [\n",
    "    {'calories': 0,\n",
    "     'carbs': 0,\n",
    "     'category_id': 1,\n",
    "     'created_at': '2017-04-17T19:43:29.444Z',\n",
    "     'fat': 0,\n",
    "     'id': 1,\n",
    "     'name': 'A&W® Diet Root Beer',\n",
    "     'restaurant': 'A&W Restaurants',\n",
    "     'restaurant_id': 1,\n",
    "     'updated_at': '2017-04-17T19:43:29.444Z',\n",
    "     'url': 'https://fast-retreat-88305.herokuapp.com/foods/1'},\n",
    "     ...\n",
    "]\n",
    "```\n",
    "\n",
    "### After:\n",
    "\n",
    "Note the addition of **`'category': 'Drinks'`** to the dictionary.\n",
    "\n",
    "```python\n",
    "foods = [\n",
    "    {'calories': 0,\n",
    "     'carbs': 0,\n",
    "     'category': 'Drinks',\n",
    "     'category_id': 1,\n",
    "     'created_at': '2017-04-17T19:43:29.444Z',\n",
    "     'fat': 0,\n",
    "     'id': 1,\n",
    "     'name': 'A&W® Diet Root Beer',\n",
    "     'restaurant': 'A&W Restaurants',\n",
    "     'restaurant_id': 1,\n",
    "     'updated_at': '2017-04-17T19:43:29.444Z',\n",
    "     'url': 'https://fast-retreat-88305.herokuapp.com/foods/1'},\n",
    "     ...\n",
    "]\n",
    "```"
   ]
  },
  {
   "cell_type": "code",
   "execution_count": 25,
   "metadata": {},
   "outputs": [
    {
     "ename": "KeyError",
     "evalue": "'category_id'",
     "output_type": "error",
     "traceback": [
      "\u001b[1;31m---------------------------------------------------------------------------\u001b[0m",
      "\u001b[1;31mKeyError\u001b[0m                                  Traceback (most recent call last)",
      "\u001b[1;32m<ipython-input-25-25f9693103b7>\u001b[0m in \u001b[0;36m<module>\u001b[1;34m()\u001b[0m\n\u001b[0;32m      3\u001b[0m \u001b[1;33m\u001b[0m\u001b[0m\n\u001b[0;32m      4\u001b[0m \u001b[1;32mfor\u001b[0m \u001b[0mfood\u001b[0m \u001b[1;32min\u001b[0m \u001b[0mfoods\u001b[0m\u001b[1;33m:\u001b[0m\u001b[1;33m\u001b[0m\u001b[0m\n\u001b[1;32m----> 5\u001b[1;33m     \u001b[0mcategory_id\u001b[0m \u001b[1;33m=\u001b[0m \u001b[0mfood\u001b[0m\u001b[1;33m[\u001b[0m\u001b[1;34m'category_id'\u001b[0m\u001b[1;33m]\u001b[0m\u001b[1;33m\u001b[0m\u001b[0m\n\u001b[0m\u001b[0;32m      6\u001b[0m \u001b[1;33m\u001b[0m\u001b[0m\n\u001b[0;32m      7\u001b[0m \u001b[1;33m\u001b[0m\u001b[0m\n",
      "\u001b[1;31mKeyError\u001b[0m: 'category_id'"
     ]
    }
   ],
   "source": [
    "\n",
    "categories = {}\n",
    "\n",
    "for food in foods:\n",
    "    category_id = food['category_id']\n",
    "    \n",
    "    \n",
    "    if category_id in categories:\n",
    "        \n",
    "        food['category'] = categories[category_id]\n",
    "    else:\n",
    " \n",
    "        category_res = requests.get('https://fast-retreat-88305.herokuapp.com/categories/{}'.format(category_id))\n",
    "        category = json.loads(category_res.content)\n",
    "        food['category'] = category['name']\n",
    "        categories[category_id] = category['name']"
   ]
  },
  {
   "cell_type": "markdown",
   "metadata": {},
   "source": [
    "## Step 3: Create a `pandas` DataFrame from your list of foods\n",
    "\n",
    "**NOTE:** The shape of your DataFrame should be 4976 x 12"
   ]
  },
  {
   "cell_type": "code",
   "execution_count": null,
   "metadata": {
    "collapsed": true
   },
   "outputs": [],
   "source": [
    "df = pd.DataFrame(foods)\n",
    "df.shape"
   ]
  },
  {
   "cell_type": "markdown",
   "metadata": {},
   "source": [
    "## Step 4: Clean up the DataFrame\n",
    "\n",
    "1. Drop any superfluous columns\n",
    "2. Capitalize each column name **in one line of code**"
   ]
  },
  {
   "cell_type": "code",
   "execution_count": null,
   "metadata": {
    "collapsed": true
   },
   "outputs": [],
   "source": [
    "df.drop(['category_id', 'created_at', 'id', 'restaurant_id', 'updated_at', 'url'], axis=1, inplace=True)"
   ]
  },
  {
   "cell_type": "code",
   "execution_count": null,
   "metadata": {
    "collapsed": true
   },
   "outputs": [],
   "source": [
    "df.columns = [c.title() for c in df.columns]\n",
    "df.head()"
   ]
  },
  {
   "cell_type": "code",
   "execution_count": null,
   "metadata": {
    "collapsed": true
   },
   "outputs": [],
   "source": []
  }
 ],
 "metadata": {
  "kernelspec": {
   "display_name": "Python 3",
   "language": "python",
   "name": "python3"
  },
  "language_info": {
   "codemirror_mode": {
    "name": "ipython",
    "version": 3
   },
   "file_extension": ".py",
   "mimetype": "text/x-python",
   "name": "python",
   "nbconvert_exporter": "python",
   "pygments_lexer": "ipython3",
   "version": "3.6.1"
  }
 },
 "nbformat": 4,
 "nbformat_minor": 2
}
